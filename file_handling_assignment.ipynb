{
 "cells": [
  {
   "cell_type": "code",
   "execution_count": 1,
   "id": "801f4ff9-6690-4136-9647-a677d0fc6f81",
   "metadata": {},
   "outputs": [
    {
     "data": {
      "text/plain": [
       "'\\nMultithreading is preferable when:\\n\\nThe program is I/O-bound (waiting for user input, reading files, waiting for network responses, etc.).\\nThreads can share memory and variables, allowing fast communication and lower overhead.\\nThe GIL (Global Interpreter Lock) is not a concern, such as in cases of network operations or waiting for I/O tasks.\\nYou want to conserve memory as threads use less memory than processes.\\nMultiprocessing is better when:\\n\\nThe program is CPU-bound, requiring heavy computation (e.g., scientific calculations, image processing).\\nThe GIL is a bottleneck (in Python, only one thread can execute Python bytecode at a time because of the GIL).\\nYou need true parallelism since processes run on separate CPU cores.\\nProcesses don’t need to share memory or data, as communication between processes (e.g., using queues or pipes) is slower than threads.\\n'"
      ]
     },
     "execution_count": 1,
     "metadata": {},
     "output_type": "execute_result"
    }
   ],
   "source": [
    "#1) Discuss the scenarios where multithreading is preferable to multiprocessing and scenarios where multiprocessing is a better choice.\n",
    "\n",
    "'''\n",
    "Multithreading is preferable when:\n",
    "\n",
    "The program is I/O-bound (waiting for user input, reading files, waiting for network responses, etc.).\n",
    "Threads can share memory and variables, allowing fast communication and lower overhead.\n",
    "The GIL (Global Interpreter Lock) is not a concern, such as in cases of network operations or waiting for I/O tasks.\n",
    "You want to conserve memory as threads use less memory than processes.\n",
    "Multiprocessing is better when:\n",
    "\n",
    "The program is CPU-bound, requiring heavy computation (e.g., scientific calculations, image processing).\n",
    "The GIL is a bottleneck (in Python, only one thread can execute Python bytecode at a time because of the GIL).\n",
    "You need true parallelism since processes run on separate CPU cores.\n",
    "Processes don’t need to share memory or data, as communication between processes (e.g., using queues or pipes) is slower than threads.\n",
    "'''"
   ]
  },
  {
   "cell_type": "code",
   "execution_count": 2,
   "id": "a2ad4ef0-a946-4888-b17b-107379f9d93b",
   "metadata": {},
   "outputs": [
    {
     "data": {
      "text/plain": [
       "'\\nA process pool is a collection of worker processes that are used to execute tasks concurrently. Instead of creating and destroying processes for each task (which can be expensive in terms of time and resources), a pool keeps a set number of worker processes alive, ready to take on tasks.\\n\\nBenefits:\\n\\nResource management: The pool limits the number of processes that run simultaneously, preventing resource overuse.\\nTask scheduling: It queues tasks and assigns them to the next available process.\\nCode simplicity: It abstracts the complexity of process management, allowing developers to focus on the logic.\\n'"
      ]
     },
     "execution_count": 2,
     "metadata": {},
     "output_type": "execute_result"
    }
   ],
   "source": [
    "#2)  Describe what a process pool is and how it helps in managing multiple processes efficiently.\n",
    "\n",
    "'''\n",
    "A process pool is a collection of worker processes that are used to execute tasks concurrently. Instead of creating and destroying processes for each task (which can be expensive in terms of time and resources), a pool keeps a set number of worker processes alive, ready to take on tasks.\n",
    "\n",
    "Benefits:\n",
    "\n",
    "Resource management: The pool limits the number of processes that run simultaneously, preventing resource overuse.\n",
    "Task scheduling: It queues tasks and assigns them to the next available process.\n",
    "Code simplicity: It abstracts the complexity of process management, allowing developers to focus on the logic.\n",
    "'''"
   ]
  },
  {
   "cell_type": "code",
   "execution_count": 1,
   "id": "403df2cd-6c08-42cd-b47b-54cc7ba4b8b3",
   "metadata": {},
   "outputs": [
    {
     "data": {
      "text/plain": [
       "'\\nMultiprocessing refers to the technique of using multiple independent processes to run code in parallel. Each process has its own memory space, so data sharing must be explicitly handled.\\n\\nIn Python, it is used to:\\n\\nOvercome the GIL limitation by executing tasks on separate CPU cores.\\nHandle CPU-bound tasks more efficiently by taking advantage of multiple cores.\\nAchieve true parallelism in contrast to threads, which are limited by the GIL.\\n'"
      ]
     },
     "execution_count": 1,
     "metadata": {},
     "output_type": "execute_result"
    }
   ],
   "source": [
    "#3)  Explain what multiprocessing is and why it is used in Python programs\n",
    "\n",
    "'''\n",
    "Multiprocessing refers to the technique of using multiple independent processes to run code in parallel. Each process has its own memory space, so data sharing must be explicitly handled.\n",
    "\n",
    "In Python, it is used to:\n",
    "\n",
    "Overcome the GIL limitation by executing tasks on separate CPU cores.\n",
    "Handle CPU-bound tasks more efficiently by taking advantage of multiple cores.\n",
    "Achieve true parallelism in contrast to threads, which are limited by the GIL.\n",
    "'''"
   ]
  },
  {
   "cell_type": "code",
   "execution_count": 2,
   "id": "ea572943-a3e8-42db-ad9e-1ab9a0d45363",
   "metadata": {},
   "outputs": [
    {
     "name": "stdout",
     "output_type": "stream",
     "text": [
      "Adding 0\n",
      "Adding 1\n",
      "Removed 0\n",
      "Adding 2\n",
      "Adding 3\n",
      "Removed 1\n",
      "Adding 4\n",
      "Removed 2\n",
      "Removed 3\n",
      "Removed 4\n",
      "Final numbers list: []\n"
     ]
    }
   ],
   "source": [
    "#4) Write a Python program using multithreading where one thread adds numbers to a list, and another thread removes numbers from the list. Implement a mechanism to avoid race conditions using threading.Lock.\n",
    "\n",
    "import threading\n",
    "import time\n",
    "\n",
    "# Shared resource\n",
    "numbers = []\n",
    "\n",
    "# Lock to prevent race conditions\n",
    "lock = threading.Lock()\n",
    "\n",
    "# Thread to add numbers to the list\n",
    "def add_numbers():\n",
    "    for i in range(5):\n",
    "        with lock:\n",
    "            print(f\"Adding {i}\")\n",
    "            numbers.append(i)\n",
    "        time.sleep(1)\n",
    "\n",
    "# Thread to remove numbers from the list\n",
    "def remove_numbers():\n",
    "    for i in range(5):\n",
    "        time.sleep(1.5)\n",
    "        with lock:\n",
    "            if numbers:\n",
    "                removed = numbers.pop(0)\n",
    "                print(f\"Removed {removed}\")\n",
    "\n",
    "# Create threads\n",
    "thread1 = threading.Thread(target=add_numbers)\n",
    "thread2 = threading.Thread(target=remove_numbers)\n",
    "\n",
    "# Start threads\n",
    "thread1.start()\n",
    "thread2.start()\n",
    "\n",
    "# Wait for both threads to complete\n",
    "thread1.join()\n",
    "thread2.join()\n",
    "\n",
    "print(\"Final numbers list:\", numbers)\n"
   ]
  },
  {
   "cell_type": "code",
   "execution_count": 3,
   "id": "c1677e08-4e5b-4622-bc7c-ac345054a259",
   "metadata": {},
   "outputs": [
    {
     "data": {
      "text/plain": [
       "'\\nThreads:\\n\\nthreading.Lock prevents race conditions by allowing only one thread to access a resource at a time.\\nthreading.RLock is a re-entrant lock that can be acquired multiple times by the same thread.\\nthreading.Condition and threading.Event are used for signaling between threads.\\nProcesses:\\n\\nMultiprocessing queues and pipes: multiprocessing.Queue and multiprocessing.Pipe can be used to share data between processes.\\nShared memory: multiprocessing.Value and multiprocessing.Array allow sharing primitive data types and arrays between processes.\\nManager objects: multiprocessing.Manager provides support for shared objects like lists and dictionaries.\\n'"
      ]
     },
     "execution_count": 3,
     "metadata": {},
     "output_type": "execute_result"
    }
   ],
   "source": [
    "#5)  Describe the methods and tools available in Python for safely sharing data between threads and processes.\n",
    "\n",
    "'''\n",
    "Threads:\n",
    "\n",
    "threading.Lock prevents race conditions by allowing only one thread to access a resource at a time.\n",
    "threading.RLock is a re-entrant lock that can be acquired multiple times by the same thread.\n",
    "threading.Condition and threading.Event are used for signaling between threads.\n",
    "Processes:\n",
    "\n",
    "Multiprocessing queues and pipes: multiprocessing.Queue and multiprocessing.Pipe can be used to share data between processes.\n",
    "Shared memory: multiprocessing.Value and multiprocessing.Array allow sharing primitive data types and arrays between processes.\n",
    "Manager objects: multiprocessing.Manager provides support for shared objects like lists and dictionaries.\n",
    "'''"
   ]
  },
  {
   "cell_type": "code",
   "execution_count": 4,
   "id": "1ca891d8-5de8-465e-97ef-6c8a2715b2df",
   "metadata": {},
   "outputs": [
    {
     "data": {
      "text/plain": [
       "'\\nHandling exceptions in concurrent programs is critical because:\\n\\nUnhandled exceptions can lead to deadlocks or inconsistent states.\\nThreads or processes may terminate unexpectedly without the main program knowing about the failure.\\n'"
      ]
     },
     "execution_count": 4,
     "metadata": {},
     "output_type": "execute_result"
    }
   ],
   "source": [
    "#6) Discuss why it’s crucial to handle exceptions in concurrent programs and the techniques available for doing so.\n",
    "\n",
    "'''\n",
    "Handling exceptions in concurrent programs is critical because:\n",
    "\n",
    "Unhandled exceptions can lead to deadlocks or inconsistent states.\n",
    "Threads or processes may terminate unexpectedly without the main program knowing about the failure.\n",
    "'''\n"
   ]
  },
  {
   "cell_type": "code",
   "execution_count": 5,
   "id": "3f7981eb-df93-4a0e-9b33-7529453bebe2",
   "metadata": {},
   "outputs": [
    {
     "name": "stdout",
     "output_type": "stream",
     "text": [
      "Calculating factorial of 1\n",
      "Calculating factorial of 2\n",
      "Calculating factorial of 3\n",
      "Calculating factorial of 4\n",
      "Calculating factorial of 5\n",
      "Calculating factorial of 6\n",
      "Calculating factorial of 7\n",
      "Calculating factorial of 8\n",
      "Calculating factorial of 9\n",
      "Calculating factorial of 10\n",
      "Factorial of 1 is 1\n",
      "Factorial of 2 is 2\n",
      "Factorial of 3 is 6\n",
      "Factorial of 4 is 24\n",
      "Factorial of 5 is 120\n",
      "Factorial of 6 is 720\n",
      "Factorial of 7 is 5040\n",
      "Factorial of 8 is 40320\n",
      "Factorial of 9 is 362880\n",
      "Factorial of 10 is 3628800\n"
     ]
    }
   ],
   "source": [
    "#7)  Create a program that uses a thread pool to calculate the factorial of numbers from 1 to 10 concurrently. Use concurrent.futures.ThreadPoolExecutor to manage the threads.\n",
    "\n",
    "import concurrent.futures\n",
    "import math\n",
    "\n",
    "# Function to calculate factorial\n",
    "def factorial(n):\n",
    "    print(f\"Calculating factorial of {n}\")\n",
    "    return math.factorial(n)\n",
    "\n",
    "# Using ThreadPoolExecutor to calculate factorials concurrently\n",
    "with concurrent.futures.ThreadPoolExecutor() as executor:\n",
    "    numbers = range(1, 11)\n",
    "    results = executor.map(factorial, numbers)\n",
    "\n",
    "# Output results\n",
    "for number, result in zip(numbers, results):\n",
    "    print(f\"Factorial of {number} is {result}\")\n",
    "\n"
   ]
  },
  {
   "cell_type": "code",
   "execution_count": 6,
   "id": "d4277fed-a84e-4c2e-8f34-b6e7161a8431",
   "metadata": {},
   "outputs": [
    {
     "name": "stdout",
     "output_type": "stream",
     "text": [
      "Pool Size 2: [1, 4, 9, 16, 25, 36, 49, 64, 81, 100] | Time taken: 0.0269 seconds\n",
      "Pool Size 4: [1, 4, 9, 16, 25, 36, 49, 64, 81, 100] | Time taken: 0.0380 seconds\n",
      "Pool Size 8: [1, 4, 9, 16, 25, 36, 49, 64, 81, 100] | Time taken: 0.0684 seconds\n"
     ]
    }
   ],
   "source": [
    "#8) Create a Python program that uses multiprocessing.Pool to compute the square of numbers from 1 to 10 in parallel. Measure the time taken to perform this computation using a pool of different sizes (e.g., 2, 4, 8 processes)\n",
    "\n",
    "import multiprocessing\n",
    "import time\n",
    "\n",
    "# Function to compute square of a number\n",
    "def compute_square(n):\n",
    "    return n * n\n",
    "\n",
    "# Measure the time taken for different pool sizes\n",
    "def measure_pool_size(pool_size):\n",
    "    start_time = time.time()\n",
    "    \n",
    "    with multiprocessing.Pool(pool_size) as pool:\n",
    "        numbers = range(1, 11)\n",
    "        results = pool.map(compute_square, numbers)\n",
    "    \n",
    "    end_time = time.time()\n",
    "    print(f\"Pool Size {pool_size}: {results} | Time taken: {end_time - start_time:.4f} seconds\")\n",
    "\n",
    "# Measure with different pool sizes\n",
    "for size in [2, 4, 8]:\n",
    "    measure_pool_size(size)\n"
   ]
  },
  {
   "cell_type": "code",
   "execution_count": null,
   "id": "e2efb055-8b55-47a2-b20e-c31e2d58159a",
   "metadata": {},
   "outputs": [],
   "source": []
  }
 ],
 "metadata": {
  "kernelspec": {
   "display_name": "Python 3 (ipykernel)",
   "language": "python",
   "name": "python3"
  },
  "language_info": {
   "codemirror_mode": {
    "name": "ipython",
    "version": 3
   },
   "file_extension": ".py",
   "mimetype": "text/x-python",
   "name": "python",
   "nbconvert_exporter": "python",
   "pygments_lexer": "ipython3",
   "version": "3.10.8"
  }
 },
 "nbformat": 4,
 "nbformat_minor": 5
}
